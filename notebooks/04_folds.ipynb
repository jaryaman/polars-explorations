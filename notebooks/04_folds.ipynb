{
 "cells": [
  {
   "cell_type": "markdown",
   "id": "336dc7a7-4cd2-48e6-823e-4a4ac9a520ed",
   "metadata": {},
   "source": [
    "# Folds"
   ]
  },
  {
   "cell_type": "markdown",
   "id": "d9bc5481-5850-42a5-baa7-789d81195a26",
   "metadata": {},
   "source": [
    "Polars is built on top of a columnar data structure.  When you need to do a complex row-wise aggregation, the `folds` can be useful (in addition to the `axis=1` built-in aggregations to e.g. `sum`, `min`, etc)."
   ]
  },
  {
   "cell_type": "code",
   "execution_count": 1,
   "id": "3f966da9-23cc-42cc-8b6d-4d4f9aedc667",
   "metadata": {},
   "outputs": [],
   "source": [
    "import polars as pl\n",
    "from polars import col"
   ]
  },
  {
   "cell_type": "code",
   "execution_count": 2,
   "id": "9f93cb6e-6006-48db-a2b6-769c6ff6c2ac",
   "metadata": {},
   "outputs": [],
   "source": [
    "df = pl.DataFrame({\n",
    "    \"a\": [1, 2, 3],\n",
    "    \"b\": [10, 20, 30],\n",
    "})"
   ]
  },
  {
   "cell_type": "markdown",
   "id": "6019fac6-3a02-43c1-bf28-bc0b7c8dbaac",
   "metadata": {},
   "source": [
    "A manual sum:"
   ]
  },
  {
   "cell_type": "code",
   "execution_count": 5,
   "id": "73980019-1abe-4996-8c65-fcf64da8c279",
   "metadata": {},
   "outputs": [
    {
     "data": {
      "text/html": [
       "<div>\n",
       "<style scoped>\n",
       "    .dataframe tbody tr th:only-of-type {\n",
       "        vertical-align: middle;\n",
       "    }\n",
       "\n",
       "    .dataframe tbody tr th {\n",
       "        vertical-align: top;\n",
       "    }\n",
       "\n",
       "    .dataframe thead th {\n",
       "        text-align: right;\n",
       "    }\n",
       "\n",
       "    .dataframe td {\n",
       "        white-space: pre;\n",
       "    }\n",
       "\n",
       "    .dataframe td {\n",
       "        padding-top: 0;\n",
       "    }\n",
       "\n",
       "    .dataframe td {\n",
       "        padding-bottom: 0;\n",
       "    }\n",
       "\n",
       "    .dataframe td {\n",
       "        line-height: 95%;\n",
       "    }\n",
       "</style>\n",
       "<table border=\"1\" class=\"dataframe\" >\n",
       "<small>shape: (3, 1)</small>\n",
       "<thead>\n",
       "<tr>\n",
       "<th>\n",
       "sum\n",
       "</th>\n",
       "</tr>\n",
       "<tr>\n",
       "<td>\n",
       "i64\n",
       "</td>\n",
       "</tr>\n",
       "</thead>\n",
       "<tbody>\n",
       "<tr>\n",
       "<td>\n",
       "11\n",
       "</td>\n",
       "</tr>\n",
       "<tr>\n",
       "<td>\n",
       "22\n",
       "</td>\n",
       "</tr>\n",
       "<tr>\n",
       "<td>\n",
       "33\n",
       "</td>\n",
       "</tr>\n",
       "</tbody>\n",
       "</table>\n",
       "</div>"
      ],
      "text/plain": [
       "shape: (3, 1)\n",
       "┌─────┐\n",
       "│ sum │\n",
       "│ --- │\n",
       "│ i64 │\n",
       "╞═════╡\n",
       "│ 11  │\n",
       "├╌╌╌╌╌┤\n",
       "│ 22  │\n",
       "├╌╌╌╌╌┤\n",
       "│ 33  │\n",
       "└─────┘"
      ]
     },
     "execution_count": 5,
     "metadata": {},
     "output_type": "execute_result"
    }
   ],
   "source": [
    "df.select(\n",
    "    pl.fold(acc=pl.lit(0), f=lambda acc, x: acc + x, exprs=col(\"*\")).alias(\"sum\")\n",
    ")  # Q: that lambda is a python object -- isn't that slow?"
   ]
  },
  {
   "cell_type": "markdown",
   "id": "f23bd4fa-e71c-43ba-9ac7-f2b09375744f",
   "metadata": {},
   "source": [
    "But the docs say that the above operates on columns individually, and can take advantage of cache efficiency and vectorization... I guess the `+` is on two `Series` which is fast?"
   ]
  },
  {
   "cell_type": "markdown",
   "id": "92f3d8b0-4391-4571-a90e-1a934d82604a",
   "metadata": {},
   "source": [
    "## Conditional"
   ]
  },
  {
   "cell_type": "code",
   "execution_count": 6,
   "id": "50f18afb-f44c-4ccc-b1bf-b65b4b95e228",
   "metadata": {},
   "outputs": [],
   "source": [
    "df = pl.DataFrame({\n",
    "    \"a\": [1, 2, 3],\n",
    "    \"b\": [0, 1, 2],\n",
    "})"
   ]
  },
  {
   "cell_type": "markdown",
   "id": "96d2a532-652f-4aa7-a605-dcf6c577f0eb",
   "metadata": {},
   "source": [
    "Give all rows where all columns per row are > 1"
   ]
  },
  {
   "cell_type": "code",
   "execution_count": 7,
   "id": "4a726a81-51d7-4aa2-9d23-afdcf5397a3e",
   "metadata": {},
   "outputs": [
    {
     "data": {
      "text/html": [
       "<div>\n",
       "<style scoped>\n",
       "    .dataframe tbody tr th:only-of-type {\n",
       "        vertical-align: middle;\n",
       "    }\n",
       "\n",
       "    .dataframe tbody tr th {\n",
       "        vertical-align: top;\n",
       "    }\n",
       "\n",
       "    .dataframe thead th {\n",
       "        text-align: right;\n",
       "    }\n",
       "\n",
       "    .dataframe td {\n",
       "        white-space: pre;\n",
       "    }\n",
       "\n",
       "    .dataframe td {\n",
       "        padding-top: 0;\n",
       "    }\n",
       "\n",
       "    .dataframe td {\n",
       "        padding-bottom: 0;\n",
       "    }\n",
       "\n",
       "    .dataframe td {\n",
       "        line-height: 95%;\n",
       "    }\n",
       "</style>\n",
       "<table border=\"1\" class=\"dataframe\" >\n",
       "<small>shape: (1, 2)</small>\n",
       "<thead>\n",
       "<tr>\n",
       "<th>\n",
       "a\n",
       "</th>\n",
       "<th>\n",
       "b\n",
       "</th>\n",
       "</tr>\n",
       "<tr>\n",
       "<td>\n",
       "i64\n",
       "</td>\n",
       "<td>\n",
       "i64\n",
       "</td>\n",
       "</tr>\n",
       "</thead>\n",
       "<tbody>\n",
       "<tr>\n",
       "<td>\n",
       "3\n",
       "</td>\n",
       "<td>\n",
       "2\n",
       "</td>\n",
       "</tr>\n",
       "</tbody>\n",
       "</table>\n",
       "</div>"
      ],
      "text/plain": [
       "shape: (1, 2)\n",
       "┌─────┬─────┐\n",
       "│ a   ┆ b   │\n",
       "│ --- ┆ --- │\n",
       "│ i64 ┆ i64 │\n",
       "╞═════╪═════╡\n",
       "│ 3   ┆ 2   │\n",
       "└─────┴─────┘"
      ]
     },
     "execution_count": 7,
     "metadata": {},
     "output_type": "execute_result"
    }
   ],
   "source": [
    "df.filter(\n",
    "    pl.fold(\n",
    "        acc = pl.lit(True),\n",
    "        f = lambda acc, x: acc & x,\n",
    "        exprs=col(\"*\") > 1,\n",
    "    )\n",
    ")"
   ]
  },
  {
   "cell_type": "code",
   "execution_count": null,
   "id": "f622a92e-a0d9-45b4-8e28-8aa73babaa80",
   "metadata": {},
   "outputs": [],
   "source": []
  }
 ],
 "metadata": {
  "kernelspec": {
   "display_name": "Python 3",
   "language": "python",
   "name": "python3"
  },
  "language_info": {
   "codemirror_mode": {
    "name": "ipython",
    "version": 3
   },
   "file_extension": ".py",
   "mimetype": "text/x-python",
   "name": "python",
   "nbconvert_exporter": "python",
   "pygments_lexer": "ipython3",
   "version": "3.10.4"
  }
 },
 "nbformat": 4,
 "nbformat_minor": 5
}
