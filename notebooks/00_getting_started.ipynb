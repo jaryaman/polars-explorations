{
 "cells": [
  {
   "cell_type": "code",
   "execution_count": 1,
   "id": "674def86-5f2b-43dd-bc9f-2e3e0213343b",
   "metadata": {},
   "outputs": [],
   "source": [
    "import polars as pl"
   ]
  },
  {
   "cell_type": "markdown",
   "id": "d5b03f51-4919-40a1-9795-0f9252a2157e",
   "metadata": {},
   "source": [
    "## Why Polars?\n",
    "\n",
    "- It's very fast -- possibly the fastest dataframe library out there as of 2022.\n",
    "- Automatic parallelization, making use of all CPUs available without a fuss. Makes use of Single Instruction Multiple Data to make the most of modern CPU architectures and RAM availability.\n",
    "- Better memory management than pandas -- no unnecessary copying of data.\n",
    "- Both eager (for exploration) and lazy (for efficient) execution modes. Lazy execution gives automatic optimization of a query -- state **what** you want to do, not how.\n",
    "- Apache Arrow Columnar Format under the hood enables Polars to talk to various other services more easily that also use Apache Arrow, as well as clever cache handling for increased performance and proper missing data handling (no more float casting for missing integers)."
   ]
  },
  {
   "cell_type": "markdown",
   "id": "ce12e1a9-3589-4ae8-a6d4-13d3f04be34c",
   "metadata": {},
   "source": [
    "## Getting started"
   ]
  },
  {
   "cell_type": "markdown",
   "id": "265d26c5-5e0e-4503-8f33-1b65a67539ae",
   "metadata": {},
   "source": [
    "### Eager execution"
   ]
  },
  {
   "cell_type": "code",
   "execution_count": 2,
   "id": "6d8f70b0-0e64-452e-8b63-e0231d86fe03",
   "metadata": {},
   "outputs": [
    {
     "name": "stdout",
     "output_type": "stream",
     "text": [
      "shape: (3, 5)\n",
      "┌────────────┬──────────────┬─────────────┬──────────────┬─────────────┐\n",
      "│ species    ┆ sepal_length ┆ sepal_width ┆ petal_length ┆ petal_width │\n",
      "│ ---        ┆ ---          ┆ ---         ┆ ---          ┆ ---         │\n",
      "│ str        ┆ f64          ┆ f64         ┆ f64          ┆ f64         │\n",
      "╞════════════╪══════════════╪═════════════╪══════════════╪═════════════╡\n",
      "│ virginica  ┆ 324.5        ┆ 146.2       ┆ 273.1        ┆ 99.6        │\n",
      "├╌╌╌╌╌╌╌╌╌╌╌╌┼╌╌╌╌╌╌╌╌╌╌╌╌╌╌┼╌╌╌╌╌╌╌╌╌╌╌╌╌┼╌╌╌╌╌╌╌╌╌╌╌╌╌╌┼╌╌╌╌╌╌╌╌╌╌╌╌╌┤\n",
      "│ versicolor ┆ 281.9        ┆ 131.8       ┆ 202.9        ┆ 63.3        │\n",
      "├╌╌╌╌╌╌╌╌╌╌╌╌┼╌╌╌╌╌╌╌╌╌╌╌╌╌╌┼╌╌╌╌╌╌╌╌╌╌╌╌╌┼╌╌╌╌╌╌╌╌╌╌╌╌╌╌┼╌╌╌╌╌╌╌╌╌╌╌╌╌┤\n",
      "│ setosa     ┆ 116.9        ┆ 81.7        ┆ 33.2         ┆ 6.1         │\n",
      "└────────────┴──────────────┴─────────────┴──────────────┴─────────────┘\n"
     ]
    }
   ],
   "source": [
    "df = pl.read_csv(\"https://j.mp/iriscsv\")\n",
    "print(df.filter(pl.col(\"sepal_length\") > 5)\n",
    "      .groupby(\"species\")\n",
    "      .agg(pl.all().sum())\n",
    ")"
   ]
  },
  {
   "cell_type": "markdown",
   "id": "3f57422c-91da-4eb8-bdf8-f67988d6cafa",
   "metadata": {},
   "source": [
    "### Lazy execution\n",
    "\n",
    "Lazy execution means that Polars is given access to the entire context of the query, and can therefore plan/optimize the algorithm to perform the end-to-end task. Use `.lazy()` and `.collect()` to make a lazy query."
   ]
  },
  {
   "cell_type": "code",
   "execution_count": 3,
   "id": "a664a332-89bb-4f48-b6e9-a50aa12c05d4",
   "metadata": {},
   "outputs": [
    {
     "name": "stdout",
     "output_type": "stream",
     "text": [
      "shape: (3, 5)\n",
      "┌────────────┬──────────────┬─────────────┬──────────────┬─────────────┐\n",
      "│ species    ┆ sepal_length ┆ sepal_width ┆ petal_length ┆ petal_width │\n",
      "│ ---        ┆ ---          ┆ ---         ┆ ---          ┆ ---         │\n",
      "│ str        ┆ f64          ┆ f64         ┆ f64          ┆ f64         │\n",
      "╞════════════╪══════════════╪═════════════╪══════════════╪═════════════╡\n",
      "│ versicolor ┆ 281.9        ┆ 131.8       ┆ 202.9        ┆ 63.3        │\n",
      "├╌╌╌╌╌╌╌╌╌╌╌╌┼╌╌╌╌╌╌╌╌╌╌╌╌╌╌┼╌╌╌╌╌╌╌╌╌╌╌╌╌┼╌╌╌╌╌╌╌╌╌╌╌╌╌╌┼╌╌╌╌╌╌╌╌╌╌╌╌╌┤\n",
      "│ virginica  ┆ 324.5        ┆ 146.2       ┆ 273.1        ┆ 99.6        │\n",
      "├╌╌╌╌╌╌╌╌╌╌╌╌┼╌╌╌╌╌╌╌╌╌╌╌╌╌╌┼╌╌╌╌╌╌╌╌╌╌╌╌╌┼╌╌╌╌╌╌╌╌╌╌╌╌╌╌┼╌╌╌╌╌╌╌╌╌╌╌╌╌┤\n",
      "│ setosa     ┆ 116.9        ┆ 81.7        ┆ 33.2         ┆ 6.1         │\n",
      "└────────────┴──────────────┴─────────────┴──────────────┴─────────────┘\n"
     ]
    }
   ],
   "source": [
    "print(\n",
    "    pl.read_csv(\"https://j.mp/iriscsv\")\n",
    "    .lazy()\n",
    "    .filter(pl.col(\"sepal_length\") > 5)\n",
    "    .groupby(\"species\")\n",
    "    .agg(pl.all().sum())\n",
    "    .collect()\n",
    ")"
   ]
  },
  {
   "cell_type": "markdown",
   "id": "693e7c3c-9d36-4f8d-af4e-b195ba43d3ae",
   "metadata": {},
   "source": [
    "We can see an optimized computational graph of the plan"
   ]
  },
  {
   "cell_type": "code",
   "execution_count": 6,
   "id": "f974e75e-6490-46a1-884f-70073208aa1b",
   "metadata": {},
   "outputs": [
    {
     "data": {
      "image/svg+xml": [
       "<svg xmlns=\"http://www.w3.org/2000/svg\" xmlns:xlink=\"http://www.w3.org/1999/xlink\" width=\"802pt\" height=\"150pt\" viewBox=\"0.00 0.00 802.00 150.00\">\n",
       "<g id=\"graph0\" class=\"graph\" transform=\"scale(1 1) rotate(0) translate(4 146)\">\n",
       "<title>polars_query</title>\n",
       "<polygon fill=\"white\" stroke=\"transparent\" points=\"-4,4 -4,-146 798,-146 798,4 -4,4\"/>\n",
       "<!-- AGG [col(&quot;sepal_length&quot;).sum(), col(&quot;sepal_width&quot;).sum(), col(&quot;petal_length&quot;).sum(), col(&quot;petal_width&quot;).sum()]\n",
       "BY\n",
       "[col(&quot;species&quot;)] [(0, 0)] [(0, 0)] -->\n",
       "<g id=\"node1\" class=\"node\">\n",
       "<title>AGG [col(&quot;sepal_length&quot;).sum(), col(&quot;sepal_width&quot;).sum(), col(&quot;petal_length&quot;).sum(), col(&quot;petal_width&quot;).sum()]\n",
       "BY\n",
       "[col(&quot;species&quot;)] [(0, 0)] [(0, 0)]</title>\n",
       "<polygon fill=\"none\" stroke=\"black\" points=\"794,-142 0,-142 0,-89 794,-89 794,-142\"/>\n",
       "<text text-anchor=\"middle\" x=\"397\" y=\"-126.8\" font-family=\"Times,serif\" font-size=\"14.00\">AGG [col(&quot;sepal_length&quot;).sum(), col(&quot;sepal_width&quot;).sum(), col(&quot;petal_length&quot;).sum(), col(&quot;petal_width&quot;).sum()]</text>\n",
       "<text text-anchor=\"middle\" x=\"397\" y=\"-111.8\" font-family=\"Times,serif\" font-size=\"14.00\">BY</text>\n",
       "<text text-anchor=\"middle\" x=\"397\" y=\"-96.8\" font-family=\"Times,serif\" font-size=\"14.00\">[col(&quot;species&quot;)] [(0, 0)]</text>\n",
       "</g>\n",
       "<!-- TABLE\n",
       "π 5/5;\n",
       "σ (col(&quot;sepal_length&quot;)) &gt; (...; [(0, 1)] -->\n",
       "<g id=\"node2\" class=\"node\">\n",
       "<title>TABLE\n",
       "π 5/5;\n",
       "σ (col(&quot;sepal_length&quot;)) &gt; (...; [(0, 1)]</title>\n",
       "<polygon fill=\"none\" stroke=\"black\" points=\"507,-53 287,-53 287,0 507,0 507,-53\"/>\n",
       "<text text-anchor=\"middle\" x=\"397\" y=\"-37.8\" font-family=\"Times,serif\" font-size=\"14.00\">TABLE</text>\n",
       "<text text-anchor=\"middle\" x=\"397\" y=\"-22.8\" font-family=\"Times,serif\" font-size=\"14.00\">π 5/5;</text>\n",
       "<text text-anchor=\"middle\" x=\"397\" y=\"-7.8\" font-family=\"Times,serif\" font-size=\"14.00\">σ (col(&quot;sepal_length&quot;)) &gt; (...;</text>\n",
       "</g>\n",
       "<!-- AGG [col(&quot;sepal_length&quot;).sum(), col(&quot;sepal_width&quot;).sum(), col(&quot;petal_length&quot;).sum(), col(&quot;petal_width&quot;).sum()]\n",
       "BY\n",
       "[col(&quot;species&quot;)] [(0, 0)] [(0, 0)]&#45;&#45;TABLE\n",
       "π 5/5;\n",
       "σ (col(&quot;sepal_length&quot;)) &gt; (...; [(0, 1)] -->\n",
       "<g id=\"edge1\" class=\"edge\">\n",
       "<title>AGG [col(&quot;sepal_length&quot;).sum(), col(&quot;sepal_width&quot;).sum(), col(&quot;petal_length&quot;).sum(), col(&quot;petal_width&quot;).sum()]\n",
       "BY\n",
       "[col(&quot;species&quot;)] [(0, 0)] [(0, 0)]--TABLE\n",
       "π 5/5;\n",
       "σ (col(&quot;sepal_length&quot;)) &gt; (...; [(0, 1)]</title>\n",
       "<path fill=\"none\" stroke=\"black\" d=\"M397,-88.87C397,-77.64 397,-64.49 397,-53.25\"/>\n",
       "</g>\n",
       "</g>\n",
       "</svg>"
      ],
      "text/plain": [
       "<IPython.core.display.SVG object>"
      ]
     },
     "metadata": {},
     "output_type": "display_data"
    }
   ],
   "source": [
    "(pl.read_csv(\"https://j.mp/iriscsv\")\n",
    "    .lazy()\n",
    "    .filter(pl.col(\"sepal_length\") > 5)\n",
    "    .groupby(\"species\")\n",
    "    .agg(pl.all().sum())).show_graph()"
   ]
  },
  {
   "cell_type": "code",
   "execution_count": null,
   "id": "dbb80abe-6e27-4b32-8184-4dcb0ab6bc27",
   "metadata": {},
   "outputs": [],
   "source": []
  }
 ],
 "metadata": {
  "kernelspec": {
   "display_name": "Python 3",
   "language": "python",
   "name": "python3"
  },
  "language_info": {
   "codemirror_mode": {
    "name": "ipython",
    "version": 3
   },
   "file_extension": ".py",
   "mimetype": "text/x-python",
   "name": "python",
   "nbconvert_exporter": "python",
   "pygments_lexer": "ipython3",
   "version": "3.10.4"
  }
 },
 "nbformat": 4,
 "nbformat_minor": 5
}
